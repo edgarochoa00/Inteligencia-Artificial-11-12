{
  "nbformat": 4,
  "nbformat_minor": 0,
  "metadata": {
    "colab": {
      "provenance": []
    },
    "kernelspec": {
      "name": "python3",
      "display_name": "Python 3"
    },
    "language_info": {
      "name": "python"
    }
  },
  "cells": [
    {
      "cell_type": "code",
      "execution_count": null,
      "metadata": {
        "id": "uuJOoEwKdbTX"
      },
      "outputs": [],
      "source": [
        "class Nodo:\n",
        "    def __init__(self, dato):\n",
        "        self.dato = dato\n",
        "        self.izquierda = None\n",
        "        self.derecha = None\n",
        "\n",
        "class ArbolBinarioBusqueda:\n",
        "    def __init__(self):\n",
        "        self.raiz = None\n",
        "\n",
        "    def insertar(self, dato):\n",
        "        def _insertar_recursivo(nodo, dato):\n",
        "            if nodo is None:\n",
        "                return Nodo(dato)\n",
        "            if dato < nodo.dato:\n",
        "                nodo.izquierda = _insertar_recursivo(nodo.izquierda, dato)\n",
        "            else:\n",
        "                nodo.derecha = _insertar_recursivo(nodo.derecha, dato)\n",
        "            return nodo\n",
        "\n",
        "        self.raiz = _insertar_recursivo(self.raiz, dato)\n",
        "\n",
        "    def imprimirArbol(self):\n",
        "        def _inorden(nodo):\n",
        "            if nodo is not None:\n",
        "                _inorden(nodo.izquierda)\n",
        "                print(nodo.dato, end=' ')\n",
        "                _inorden(nodo.derecha)\n",
        "\n",
        "        _inorden(self.raiz)\n",
        "        print()\n"
      ]
    }
  ]
}