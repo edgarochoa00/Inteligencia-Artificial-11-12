{
  "nbformat": 4,
  "nbformat_minor": 0,
  "metadata": {
    "colab": {
      "provenance": []
    },
    "kernelspec": {
      "name": "python3",
      "display_name": "Python 3"
    },
    "language_info": {
      "name": "python"
    }
  },
  "cells": [
    {
      "cell_type": "code",
      "execution_count": null,
      "metadata": {
        "id": "n9OrraYEl_Mj"
      },
      "outputs": [],
      "source": [
        "import random\n",
        "\n",
        "# Parámetros del entorno\n",
        "ENTORNO_SIZE = 10  # Tamaño del entorno (cuadrícula 10x10)\n",
        "POSICION_INICIAL = (0, 0)  # Posición inicial del robot\n",
        "OBSTACULOS = [(2, 2), (3, 5), (7, 8), (5, 5)]  # Posiciones de los obstáculos\n",
        "META = (9, 9)  # Posición de la meta\n",
        "\n",
        "# Comportamiento del robot\n",
        "def evitar_obstaculos(posicion_actual, entorno_size, obstaculos):\n",
        "    movimientos_posibles = [\n",
        "        (0, 1),   # Mover hacia arriba\n",
        "        (1, 0),   # Mover hacia la derecha\n",
        "        (0, -1),  # Mover hacia abajo\n",
        "        (-1, 0)   # Mover hacia la izquierda\n",
        "    ]\n",
        "    # Filtrar movimientos válidos (que no salgan del entorno ni choquen con obstáculos)\n",
        "    movimientos_validos = []\n",
        "    for dx, dy in movimientos_posibles:\n",
        "        nueva_x = posicion_actual[0] + dx\n",
        "        nueva_y = posicion_actual[1] + dy\n",
        "        if (0 <= nueva_x < entorno_size and  # Dentro del entorno\n",
        "            0 <= nueva_y < entorno_size and  # Dentro del entorno\n",
        "            (nueva_x, nueva_y) not in obstaculos):  # No es un obstáculo\n",
        "            movimientos_validos.append((dx, dy))\n",
        "    # Elegir un movimiento al azar entre los válidos\n",
        "    if movimientos_validos:\n",
        "        return random.choice(movimientos_validos)\n",
        "    else:\n",
        "        return (0, 0)  # No moverse si no hay movimientos válidos\n",
        "\n",
        "# Simulación del robot\n",
        "def simular_robot(posicion_inicial, meta, obstaculos, entorno_size):\n",
        "    posicion_actual = posicion_inicial\n",
        "    pasos = 0\n",
        "    while posicion_actual != meta:\n",
        "        print(f\"Posición actual: {posicion_actual}\")\n",
        "        # Calcular el siguiente movimiento\n",
        "        dx, dy = evitar_obstaculos(posicion_actual, entorno_size, obstaculos)\n",
        "        # Actualizar la posición\n",
        "        nueva_x = posicion_actual[0] + dx\n",
        "        nueva_y = posicion_actual[1] + dy\n",
        "        posicion_actual = (nueva_x, nueva_y)\n",
        "        pasos += 1\n",
        "        # Detener si se excede un número razonable de pasos\n",
        "        if pasos > 100:\n",
        "            print(\"El robot no pudo encontrar la meta.\")\n",
        "            return\n",
        "    print(f\"¡Meta alcanzada en {pasos} pasos! Posición final: {posicion_actual}\")\n",
        "\n",
        "# Ejecutar la simulación\n",
        "simular_robot(POSICION_INICIAL, META, OBSTACULOS, ENTORNO_SIZE)"
      ]
    }
  ]
}